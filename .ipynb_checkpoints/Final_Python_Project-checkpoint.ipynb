{
 "cells": [
  {
   "cell_type": "code",
   "execution_count": 18,
   "id": "3c049c17",
   "metadata": {},
   "outputs": [],
   "source": [
    "import csv\n",
    "import datetime"
   ]
  },
  {
   "cell_type": "markdown",
   "id": "05b93467",
   "metadata": {},
   "source": [
    "## Menu.txt"
   ]
  },
  {
   "cell_type": "code",
   "execution_count": 19,
   "id": "623bbd4d",
   "metadata": {},
   "outputs": [],
   "source": []
  },
  {
   "cell_type": "markdown",
   "id": "31448f3b",
   "metadata": {},
   "source": [
    "# Classes"
   ]
  },
  {
   "cell_type": "code",
   "execution_count": 20,
   "id": "5e3c34ef",
   "metadata": {},
   "outputs": [],
   "source": [
    "class Pizza():\n",
    "    def __init__(self, name, sauce, cost):\n",
    "        self.name = name\n",
    "        self.sauce = sauce\n",
    "        self.cost = cost\n",
    "    def get_description(self):\n",
    "        print(f'Your pizza is ready!. It is a {self.name} pizza and it contains {self.sauce} sauce.')\n",
    "        \n",
    "    def get_cost(self):\n",
    "        print(f'Its cost is {self.cost}')"
   ]
  },
  {
   "cell_type": "code",
   "execution_count": 21,
   "id": "5bc6f8fe",
   "metadata": {},
   "outputs": [],
   "source": [
    "class Classic(Pizza):\n",
    "    def __init__(self):\n",
    "        self.price = 40\n",
    "        self.description = 'The classic pizza is a favorite dish that is prepared with the addition of delicious ingredients such as fresh tomato sauce, sliced pepperoni, mushrooms, green peppers and mozzarella cheese on a delicious dough, and every bite is a feast for the palate.'"
   ]
  },
  {
   "cell_type": "code",
   "execution_count": 22,
   "id": "25c19516",
   "metadata": {},
   "outputs": [],
   "source": [
    "class Margherita(Pizza):\n",
    "    def __init__(self):\n",
    "        self.price = 30\n",
    "        self.description = 'Margarita pizza is a simple and delicious Italian classic made with fresh tomato sauce, sliced mozzarella cheese and fresh basil leaves on a delicious pizza dough.'"
   ]
  },
  {
   "cell_type": "code",
   "execution_count": 23,
   "id": "4b48c492",
   "metadata": {},
   "outputs": [],
   "source": [
    "class TurkPizza(Pizza):\n",
    "    def __init__(self):\n",
    "        self.price = 58\n",
    "        self.description = 'Turkish pizza is a type of pizza that enlivens the palate with its taste, with ingredients inspired by Turkish cuisine such as sucuk, sausage, tomato, pepper and cheddar on a thin dough.'"
   ]
  },
  {
   "cell_type": "code",
   "execution_count": 24,
   "id": "186ecd5c",
   "metadata": {},
   "outputs": [],
   "source": [
    "class PlainPizza(Pizza):\n",
    "    def __init__(self):\n",
    "        self.price = 42\n",
    "        self.description = 'Plain pizza is a simple yet satisfying Italian classic made with fresh tomato sauce and mozzarella cheese on a delicious pizza dough.'"
   ]
  },
  {
   "cell_type": "code",
   "execution_count": 25,
   "id": "3eb1a1af",
   "metadata": {},
   "outputs": [],
   "source": [
    "class Sauce(Pizza):\n",
    "    def __init__(self, price, description):\n",
    "        self.price = price\n",
    "        self.description = description"
   ]
  },
  {
   "cell_type": "code",
   "execution_count": 26,
   "id": "21b3c555",
   "metadata": {},
   "outputs": [],
   "source": [
    "class Decorator():\n",
    "    def get_cost(self):\n",
    "        return self.component.get_cost() + Pizza.get_cost(self)\n",
    "\n",
    "    def get_description(self):\n",
    "        return self.component.get_description() + ' ' + Pizza.get_description(self)"
   ]
  },
  {
   "cell_type": "code",
   "execution_count": 27,
   "id": "1dd7f6de",
   "metadata": {},
   "outputs": [],
   "source": [
    "class Olives(Decorator):\n",
    "    def __init__(self):\n",
    "        self.cost = 5\n",
    "        self.description = 'Black Olives'"
   ]
  },
  {
   "cell_type": "code",
   "execution_count": 28,
   "id": "12584d4d",
   "metadata": {},
   "outputs": [],
   "source": [
    "class Mushroom(Decorator):\n",
    "    def __init__(self):\n",
    "        self.cost = 10\n",
    "        self.description = 'Big Mushrooms'"
   ]
  },
  {
   "cell_type": "code",
   "execution_count": 29,
   "id": "652c8aa4",
   "metadata": {},
   "outputs": [],
   "source": [
    "class Goat_Cheese(Decorator):\n",
    "    def __init__(self):\n",
    "        self.cost = 15\n",
    "        self.description = 'Extremely White Cheese'"
   ]
  },
  {
   "cell_type": "code",
   "execution_count": 30,
   "id": "cbcad40b",
   "metadata": {},
   "outputs": [],
   "source": [
    "class Meat(Decorator):\n",
    "    def __init__(self):\n",
    "        self.cost = 25\n",
    "        self.description = 'Delicious Meat'"
   ]
  },
  {
   "cell_type": "code",
   "execution_count": 31,
   "id": "01d93640",
   "metadata": {},
   "outputs": [],
   "source": [
    "class Onions(Decorator):\n",
    "    def __init__(self):\n",
    "        self.cost = 8\n",
    "        self.description = 'Useful Onions'"
   ]
  },
  {
   "cell_type": "code",
   "execution_count": 32,
   "id": "324beadc",
   "metadata": {},
   "outputs": [],
   "source": [
    "class Corn(Decorator):\n",
    "    def __init__(self):\n",
    "        self.cost = 10\n",
    "        self.description = 'Natural Corn'"
   ]
  },
  {
   "cell_type": "markdown",
   "id": "8c190e1a",
   "metadata": {},
   "source": [
    "# Main function"
   ]
  },
  {
   "cell_type": "code",
   "execution_count": 33,
   "id": "4664dd26",
   "metadata": {},
   "outputs": [
    {
     "name": "stdout",
     "output_type": "stream",
     "text": [
      "['Please Choose a Pizza Base:\\n', '    1: Classic \\n', '    2: Margherita \\n', '    3: TurkPizza \\n', '    4: PlainPizza \\n'] 1\n",
      "['    and sauce of your choice: \\n', '    11: Olives \\n', '    12: Mushrooms \\n', '    13: GoatCheese \\n', '    14: Meat \\n', '    15: Onions \\n', '    16: Corn \\n', '    Thank you!\\n', '    ']11\n",
      "Do you want to add another sauce? (y/n): n\n",
      "Please write your name: sdf\n",
      "Please enter your id: 3\n",
      "Please enter your credit card number: 3\n",
      "Please enter your password: f\n",
      "---Total Bill: 45\n",
      "---Enjoy your meal!---\n",
      "Do you want to get another order? (y/n): n\n",
      "--HAVE A GOOD DAY!--\n"
     ]
    }
   ],
   "source": [
    "def main():\n",
    "    file = open('Menu.txt', 'w+')\n",
    "    file.write('''Please Choose a Pizza Base:\n",
    "    1: Classic \n",
    "    2: Margherita \n",
    "    3: TurkPizza \n",
    "    4: PlainPizza \n",
    "    and sauce of your choice: \n",
    "    11: Olives \n",
    "    12: Mushrooms \n",
    "    13: GoatCheese \n",
    "    14: Meat \n",
    "    15: Onions \n",
    "    16: Corn \n",
    "    Thank you!\n",
    "    ''')\n",
    "    csvFile = open(\"Orders_Database.csv\",\"a\")\n",
    "    writer = csv.writer(csvFile, delimiter = \",\")\n",
    "    while True:    \n",
    "        my_list = []\n",
    "        total_bill = 0\n",
    "        file = open('Menu.txt', 'r')\n",
    "        if file.mode == 'r':\n",
    "            lines = file.readlines()\n",
    "            while True:\n",
    "                try:\n",
    "                    pizza_base = int(input(f'{lines[:5]} '))\n",
    "                except:\n",
    "                    print('Please enter a value of 1, 2, 3 or 4!')\n",
    "                    continue\n",
    "                if pizza_base in [1,2,3,4]:\n",
    "                    if pizza_base == 1:\n",
    "                        pizza = Classic()\n",
    "                        total_bill+=pizza.price\n",
    "                    elif pizza_base == 2:\n",
    "                        pizza = Margherita()\n",
    "                        total_bill+=pizza.price\n",
    "                    elif pizza_base == 3:\n",
    "                        pizza = TurkPizza()\n",
    "                        total_bill+=pizza.price\n",
    "                    elif pizza_base == 4:\n",
    "                        pizza = PlainPizza()\n",
    "                        total_bill+=pizza.price\n",
    "                    my_list.insert(len(my_list), pizza.description)\n",
    "                    break\n",
    "                else:\n",
    "                    print('WRONG ENTRY!!! Please enter a value of 1, 2, 3 or 4!')\n",
    "                    continue\n",
    "            while True:\n",
    "                while True:\n",
    "                    try:\n",
    "                        sauce_base = int(input(f'{lines[5:]}'))\n",
    "                    except:\n",
    "                        print('Please enter a value of 11, 12, 13, 14, 15 or 16!')\n",
    "                        continue\n",
    "                    if sauce_base in [11,12,13,14,15,16]:\n",
    "                        if sauce_base == 11:\n",
    "                            sauce = Olives()\n",
    "                            total_bill+=sauce.cost\n",
    "                        elif sauce_base == 12:\n",
    "                            sauce = Mushroom()\n",
    "                            total_bill+=sauce.cost\n",
    "                        elif sauce_base == 13:\n",
    "                            sauce = Goat_Cheese()\n",
    "                            total_bill+=sauce.cost\n",
    "                        elif sauce_base == 14:\n",
    "                            sauce = Meat()\n",
    "                            total_bill+=sauce.cost\n",
    "                        elif sauce_base == 15:\n",
    "                            sauce = Onions()\n",
    "                            total_bill+=sauce.cost\n",
    "                        elif sauce_base == 16:\n",
    "                            sauce = Corn()\n",
    "                            total_bill+=sauce.cost\n",
    "                        my_list.insert(len(my_list), sauce.description)\n",
    "                        break\n",
    "                    else:\n",
    "                        print('WRONG ENTRY!! Please enter a value of 11, 12, 13, 14, 15 or 16!')\n",
    "                        continue\n",
    "                add_sauce_choice = input('Do you want to add another sauce? (y/n): ')\n",
    "                if add_sauce_choice == 'n':\n",
    "                    break\n",
    "                elif add_sauce_choice == 'y':\n",
    "                    continue\n",
    "        name = input(\"Please write your name: \")\n",
    "        my_list.insert(0, name)\n",
    "        id_no = input('Please enter your id: ')\n",
    "        my_list.insert(1, id_no)\n",
    "        credit_card_no = input('Please enter your credit card number: ')\n",
    "        my_list.insert(2, credit_card_no)\n",
    "        password = input('Please enter your password: ')\n",
    "        my_list.insert(3, password)\n",
    "\n",
    "        today = datetime.datetime.today()\n",
    "        time = datetime.datetime.strftime(today, '%c')\n",
    "        my_list.insert(len(my_list), time)\n",
    "        print(f'---Total Bill: {total_bill}')\n",
    "        writer.writerow(my_list)\n",
    "        print('---Enjoy your meal!---')\n",
    "        question = input('Do you want to get another order? (y/n): ')\n",
    "        if question == 'y':\n",
    "            continue\n",
    "        elif question == 'n':\n",
    "            print('--HAVE A GOOD DAY!--')\n",
    "            break\n",
    "    csvFile.close()\n",
    "\n",
    "if __name__ == '__main__':\n",
    "    main()"
   ]
  }
 ],
 "metadata": {
  "kernelspec": {
   "display_name": "Python 3 (ipykernel)",
   "language": "python",
   "name": "python3"
  },
  "language_info": {
   "codemirror_mode": {
    "name": "ipython",
    "version": 3
   },
   "file_extension": ".py",
   "mimetype": "text/x-python",
   "name": "python",
   "nbconvert_exporter": "python",
   "pygments_lexer": "ipython3",
   "version": "3.9.1"
  }
 },
 "nbformat": 4,
 "nbformat_minor": 5
}
